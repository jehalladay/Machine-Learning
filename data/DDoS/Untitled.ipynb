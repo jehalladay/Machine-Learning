{
 "cells": [
  {
   "cell_type": "code",
   "execution_count": 42,
   "id": "2a4c3f95",
   "metadata": {},
   "outputs": [
    {
     "name": "stdout",
     "output_type": "stream",
     "text": [
      "\n",
      "python:\t3.7.10\n",
      "\n",
      "libraries loaded:\n",
      "\tfastai:\t\t1.0.61\n",
      "\tmatplotlib:\t3.3.4\n",
      "\tnumpy:\t\t1.20.2\n",
      "\tpandas:\t\t1.2.4\n",
      "\tseaborn:\t0.11.1\n",
      "\tscipy:\t\t1.6.2\n",
      "\tsklearn:\t0.24.2\n",
      "\n"
     ]
    }
   ],
   "source": [
    "# %matplotlib notebook\n",
    "\n",
    "import csv, gc, glob, os, platform, pprint, sys, urllib\n",
    "import fastai as fai\n",
    "import fastai.tabular as fat\n",
    "# import keras\n",
    "# import keras.layers as klayers\n",
    "# import keras.metrics as kmetrics\n",
    "# import keras.models as kmodels\n",
    "# import keras.utils as kutils\n",
    "import matplotlib as mpl\n",
    "import matplotlib.pyplot as plt\n",
    "import matplotlib.ticker as mtk\n",
    "import mpl_toolkits as mpt\n",
    "import numpy as np\n",
    "import pandas as pd\n",
    "# import pandas_ml as pdm\n",
    "import scipy\n",
    "import scipy.stats as scistat\n",
    "import seaborn as sn\n",
    "import sklearn as sk\n",
    "import sklearn.decomposition as skd\n",
    "import sklearn.discriminant_analysis as skda\n",
    "import sklearn.dummy as skdu\n",
    "import sklearn.ensemble as ske\n",
    "# import sklearn.externals.joblib as skjob\n",
    "import sklearn.feature_selection as skf\n",
    "import sklearn.linear_model as sklm\n",
    "import sklearn.metrics as skme\n",
    "import sklearn.model_selection as skm\n",
    "import sklearn.naive_bayes as sknb\n",
    "import sklearn.neighbors as skn\n",
    "import sklearn.neural_network as sknn\n",
    "import sklearn.pipeline as skpl\n",
    "import sklearn.preprocessing as skp\n",
    "import sklearn.svm as sksvm\n",
    "import sklearn.tree as skt\n",
    "import sklearn.utils as sku\n",
    "\n",
    "RANDOM_STATE: int = 14\n",
    "seed: int = 7\n",
    "\n",
    "# set up pretty printer for easier data evaluation\n",
    "p = pprint.PrettyPrinter(indent=4, width=30)\n",
    "pretty = p.pprint\n",
    "\n",
    "print(f\"\"\"\n",
    "python:\\t{platform.python_version()}\\n\n",
    "libraries loaded:\n",
    "\\tfastai:\\t\\t{fai.__version__}\n",
    "\\tmatplotlib:\\t{mpl.__version__}\n",
    "\\tnumpy:\\t\\t{np.__version__}\n",
    "\\tpandas:\\t\\t{pd.__version__}\n",
    "\\tseaborn:\\t{sn.__version__}\n",
    "\\tscipy:\\t\\t{scipy.__version__}\n",
    "\\tsklearn:\\t{sk.__version__}\n",
    "\"\"\")"
   ]
  },
  {
   "cell_type": "code",
   "execution_count": 40,
   "id": "114cae70",
   "metadata": {},
   "outputs": [
    {
     "name": "stdout",
     "output_type": "stream",
     "text": [
      "We will be cleaning 18 files:\n",
      "\n",
      "[   './original/01-12/DrDoS_DNS.csv',\n",
      "    './original/01-12/DrDoS_LDAP.csv',\n",
      "    './original/01-12/DrDoS_MSSQL.csv',\n",
      "    './original/01-12/DrDoS_NetBIOS.csv',\n",
      "    './original/01-12/DrDoS_NTP.csv',\n",
      "    './original/01-12/DrDoS_SNMP.csv',\n",
      "    './original/01-12/DrDoS_SSDP.csv',\n",
      "    './original/01-12/DrDoS_UDP.csv',\n",
      "    './original/01-12/Syn.csv']\n",
      "\n",
      "[   './original/01-12/TFTP.csv',\n",
      "    './original/01-12/UDPLag.csv']\n",
      "\n",
      "[   './original/03-11/LDAP.csv',\n",
      "    './original/03-11/MSSQL.csv',\n",
      "    './original/03-11/NetBIOS.csv',\n",
      "    './original/03-11/Portmap.csv']\n",
      "\n",
      "[   './original/03-11/Syn.csv',\n",
      "    './original/03-11/UDP.csv',\n",
      "    './original/03-11/UDPLag.csv']\n"
     ]
    }
   ],
   "source": [
    "data_path_1: str = './original/01-12/'\n",
    "data_path_2: str = './original/03-11/'\n",
    "    \n",
    "data_set_1: list = [\n",
    "    'DrDoS_DNS.csv',\n",
    "    'DrDoS_LDAP.csv',\n",
    "    'DrDoS_MSSQL.csv',\n",
    "    'DrDoS_NetBIOS.csv',\n",
    "    'DrDoS_NTP.csv',\n",
    "    'DrDoS_SNMP.csv',\n",
    "    'DrDoS_SSDP.csv',\n",
    "    'DrDoS_UDP.csv',\n",
    "    'Syn.csv',\n",
    "]\n",
    "    \n",
    "data_set_2: list = [\n",
    "    'TFTP.csv',\n",
    "    'UDPLag.csv',    \n",
    "]\n",
    "    \n",
    "data_set_3: list = [\n",
    "    'LDAP.csv',\n",
    "    'MSSQL.csv',\n",
    "    'NetBIOS.csv',\n",
    "    'Portmap.csv',   \n",
    "]\n",
    "    \n",
    "data_set_4: list = [\n",
    "    'Syn.csv',\n",
    "    'UDP.csv',\n",
    "    'UDPLag.csv',\n",
    "]\n",
    "\n",
    "def get_file_path(directory):\n",
    "    def func(file):\n",
    "        return os.path.join(directory, file)\n",
    "\n",
    "    return func\n",
    "\n",
    "file_path_1: str = get_file_path(data_path_1)\n",
    "file_path_2: str = get_file_path(data_path_2)\n",
    "\n",
    "file_set_1: list = list(map(file_path_1, data_set_1))\n",
    "file_set_2: list = list(map(file_path_1, data_set_2))\n",
    "file_set_3: list = list(map(file_path_2, data_set_3))\n",
    "file_set_4: list = list(map(file_path_2, data_set_4))\n",
    "    \n",
    "    \n",
    "print(f'We will be cleaning {len(file_set_1)+len(file_set_2)+len(file_set_3)+len(file_set_4)} files:\\n')\n",
    "pretty(file_set_1)\n",
    "print()\n",
    "pretty(file_set_2)\n",
    "print()\n",
    "pretty(file_set_3)\n",
    "print()\n",
    "pretty(file_set_4)"
   ]
  },
  {
   "cell_type": "code",
   "execution_count": 4,
   "id": "46e76204",
   "metadata": {},
   "outputs": [],
   "source": [
    "def load_data(filePath):\n",
    "    \n",
    "    # slice off the ./CSV/ from the filePath\n",
    "    if filePath[0] == '.' and filePath[1] == '/':\n",
    "        filePathClean: str = filePath[11::]\n",
    "        pickleDump: str = f'./cache/{filePathClean}.pickle'\n",
    "    else:\n",
    "        pickleDump: str = f'./cache/{filePath}.pickle'\n",
    "    \n",
    "    print(f'Loading Dataset: {filePath}')\n",
    "    print(f'\\tTo Dataset Cache: {pickleDump}\\n')\n",
    "    \n",
    "    # check if data already exists within cache\n",
    "    if os.path.exists(pickleDump):\n",
    "        df = pd.read_pickle(pickleDump)\n",
    "        \n",
    "    # if not, load data and clean it before caching it\n",
    "    else:\n",
    "        df = pd.read_csv(filePath, low_memory=False)\n",
    "#         df = clean_data(df)\n",
    "        \n",
    "        df.to_pickle(pickleDump)\n",
    "    \n",
    "    return df"
   ]
  },
  {
   "cell_type": "code",
   "execution_count": 41,
   "id": "e8a429e6",
   "metadata": {},
   "outputs": [
    {
     "name": "stdout",
     "output_type": "stream",
     "text": [
      "Loading Dataset: ./original/03-11/Syn.csv\n",
      "\tTo Dataset Cache: ./cache/03-11/Syn.csv.pickle\n",
      "\n",
      "Loading Dataset: ./original/03-11/UDP.csv\n",
      "\tTo Dataset Cache: ./cache/03-11/UDP.csv.pickle\n",
      "\n",
      "Loading Dataset: ./original/03-11/UDPLag.csv\n",
      "\tTo Dataset Cache: ./cache/03-11/UDPLag.csv.pickle\n",
      "\n"
     ]
    }
   ],
   "source": [
    "# df = load_data(file_set_1[0])\n",
    "# df.shape\n",
    "# df1: list = list(map(load_data, file_set_1))\n",
    "# df2: list = list(map(load_data, file_set_2))\n",
    "# df3: list = list(map(load_data, file_set_3))\n",
    "df4: list = list(map(load_data, file_set_4))"
   ]
  },
  {
   "cell_type": "code",
   "execution_count": 7,
   "id": "a6f162cd",
   "metadata": {},
   "outputs": [],
   "source": [
    "smalldf = df[df[' Label'] == 'BENIGN']\n",
    "columns = smalldf.columns\n",
    "vals = smalldf.values"
   ]
  },
  {
   "cell_type": "code",
   "execution_count": 34,
   "id": "19bba814",
   "metadata": {},
   "outputs": [
    {
     "data": {
      "text/plain": [
       "(3402, 88)"
      ]
     },
     "execution_count": 34,
     "metadata": {},
     "output_type": "execute_result"
    }
   ],
   "source": [
    "smalldf.shape"
   ]
  },
  {
   "cell_type": "code",
   "execution_count": 35,
   "id": "bef47002",
   "metadata": {
    "scrolled": false
   },
   "outputs": [
    {
     "name": "stdout",
     "output_type": "stream",
     "text": [
      "Column: 0\tType: <class 'int'>\tLabel: Unnamed: 0\n",
      "Column: 1\tType: <class 'str'>\tLabel: Flow ID\n",
      "Column: 2\tType: <class 'str'>\tLabel:  Source IP\n",
      "Column: 3\tType: <class 'int'>\tLabel:  Source Port\n",
      "Column: 4\tType: <class 'str'>\tLabel:  Destination IP\n",
      "Column: 5\tType: <class 'int'>\tLabel:  Destination Port\n",
      "Column: 6\tType: <class 'int'>\tLabel:  Protocol\n",
      "Column: 7\tType: <class 'str'>\tLabel:  Timestamp\n",
      "Column: 8\tType: <class 'int'>\tLabel:  Flow Duration\n",
      "Column: 9\tType: <class 'int'>\tLabel:  Total Fwd Packets\n",
      "Column: 10\tType: <class 'int'>\tLabel:  Total Backward Packets\n",
      "Column: 11\tType: <class 'float'>\tLabel: Total Length of Fwd Packets\n",
      "Column: 12\tType: <class 'float'>\tLabel:  Total Length of Bwd Packets\n",
      "Column: 13\tType: <class 'float'>\tLabel:  Fwd Packet Length Max\n",
      "Column: 14\tType: <class 'float'>\tLabel:  Fwd Packet Length Min\n",
      "Column: 15\tType: <class 'float'>\tLabel:  Fwd Packet Length Mean\n",
      "Column: 16\tType: <class 'float'>\tLabel:  Fwd Packet Length Std\n",
      "Column: 17\tType: <class 'float'>\tLabel: Bwd Packet Length Max\n",
      "Column: 18\tType: <class 'float'>\tLabel:  Bwd Packet Length Min\n",
      "Column: 19\tType: <class 'float'>\tLabel:  Bwd Packet Length Mean\n",
      "Column: 20\tType: <class 'float'>\tLabel:  Bwd Packet Length Std\n",
      "Column: 21\tType: <class 'float'>\tLabel: Flow Bytes/s\n",
      "Column: 22\tType: <class 'float'>\tLabel:  Flow Packets/s\n",
      "Column: 23\tType: <class 'float'>\tLabel:  Flow IAT Mean\n",
      "Column: 24\tType: <class 'float'>\tLabel:  Flow IAT Std\n",
      "Column: 25\tType: <class 'float'>\tLabel:  Flow IAT Max\n",
      "Column: 26\tType: <class 'float'>\tLabel:  Flow IAT Min\n",
      "Column: 27\tType: <class 'float'>\tLabel: Fwd IAT Total\n",
      "Column: 28\tType: <class 'float'>\tLabel:  Fwd IAT Mean\n",
      "Column: 29\tType: <class 'float'>\tLabel:  Fwd IAT Std\n",
      "Column: 30\tType: <class 'float'>\tLabel:  Fwd IAT Max\n",
      "Column: 31\tType: <class 'float'>\tLabel:  Fwd IAT Min\n",
      "Column: 32\tType: <class 'float'>\tLabel: Bwd IAT Total\n",
      "Column: 33\tType: <class 'float'>\tLabel:  Bwd IAT Mean\n",
      "Column: 34\tType: <class 'float'>\tLabel:  Bwd IAT Std\n",
      "Column: 35\tType: <class 'float'>\tLabel:  Bwd IAT Max\n",
      "Column: 36\tType: <class 'float'>\tLabel:  Bwd IAT Min\n",
      "Column: 37\tType: <class 'int'>\tLabel: Fwd PSH Flags\n",
      "Column: 38\tType: <class 'int'>\tLabel:  Bwd PSH Flags\n",
      "Column: 39\tType: <class 'int'>\tLabel:  Fwd URG Flags\n",
      "Column: 40\tType: <class 'int'>\tLabel:  Bwd URG Flags\n",
      "Column: 41\tType: <class 'int'>\tLabel:  Fwd Header Length\n",
      "Column: 42\tType: <class 'int'>\tLabel:  Bwd Header Length\n",
      "Column: 43\tType: <class 'float'>\tLabel: Fwd Packets/s\n",
      "Column: 44\tType: <class 'float'>\tLabel:  Bwd Packets/s\n",
      "Column: 45\tType: <class 'float'>\tLabel:  Min Packet Length\n",
      "Column: 46\tType: <class 'float'>\tLabel:  Max Packet Length\n",
      "Column: 47\tType: <class 'float'>\tLabel:  Packet Length Mean\n",
      "Column: 48\tType: <class 'float'>\tLabel:  Packet Length Std\n",
      "Column: 49\tType: <class 'float'>\tLabel:  Packet Length Variance\n",
      "Column: 50\tType: <class 'int'>\tLabel: FIN Flag Count\n",
      "Column: 51\tType: <class 'int'>\tLabel:  SYN Flag Count\n",
      "Column: 52\tType: <class 'int'>\tLabel:  RST Flag Count\n",
      "Column: 53\tType: <class 'int'>\tLabel:  PSH Flag Count\n",
      "Column: 54\tType: <class 'int'>\tLabel:  ACK Flag Count\n",
      "Column: 55\tType: <class 'int'>\tLabel:  URG Flag Count\n",
      "Column: 56\tType: <class 'int'>\tLabel:  CWE Flag Count\n",
      "Column: 57\tType: <class 'int'>\tLabel:  ECE Flag Count\n",
      "Column: 58\tType: <class 'float'>\tLabel:  Down/Up Ratio\n",
      "Column: 59\tType: <class 'float'>\tLabel:  Average Packet Size\n",
      "Column: 60\tType: <class 'float'>\tLabel:  Avg Fwd Segment Size\n",
      "Column: 61\tType: <class 'float'>\tLabel:  Avg Bwd Segment Size\n",
      "Column: 62\tType: <class 'int'>\tLabel:  Fwd Header Length.1\n",
      "Column: 63\tType: <class 'int'>\tLabel: Fwd Avg Bytes/Bulk\n",
      "Column: 64\tType: <class 'int'>\tLabel:  Fwd Avg Packets/Bulk\n",
      "Column: 65\tType: <class 'int'>\tLabel:  Fwd Avg Bulk Rate\n",
      "Column: 66\tType: <class 'int'>\tLabel:  Bwd Avg Bytes/Bulk\n",
      "Column: 67\tType: <class 'int'>\tLabel:  Bwd Avg Packets/Bulk\n",
      "Column: 68\tType: <class 'int'>\tLabel: Bwd Avg Bulk Rate\n",
      "Column: 69\tType: <class 'int'>\tLabel: Subflow Fwd Packets\n",
      "Column: 70\tType: <class 'int'>\tLabel:  Subflow Fwd Bytes\n",
      "Column: 71\tType: <class 'int'>\tLabel:  Subflow Bwd Packets\n",
      "Column: 72\tType: <class 'int'>\tLabel:  Subflow Bwd Bytes\n",
      "Column: 73\tType: <class 'int'>\tLabel: Init_Win_bytes_forward\n",
      "Column: 74\tType: <class 'int'>\tLabel:  Init_Win_bytes_backward\n",
      "Column: 75\tType: <class 'int'>\tLabel:  act_data_pkt_fwd\n",
      "Column: 76\tType: <class 'int'>\tLabel:  min_seg_size_forward\n",
      "Column: 77\tType: <class 'float'>\tLabel: Active Mean\n",
      "Column: 78\tType: <class 'float'>\tLabel:  Active Std\n",
      "Column: 79\tType: <class 'float'>\tLabel:  Active Max\n",
      "Column: 80\tType: <class 'float'>\tLabel:  Active Min\n",
      "Column: 81\tType: <class 'float'>\tLabel: Idle Mean\n",
      "Column: 82\tType: <class 'float'>\tLabel:  Idle Std\n",
      "Column: 83\tType: <class 'float'>\tLabel:  Idle Max\n",
      "Column: 84\tType: <class 'float'>\tLabel:  Idle Min\n",
      "Column: 85\tType: <class 'str'>\tLabel: SimillarHTTP\n",
      "Column: 86\tType: <class 'int'>\tLabel:  Inbound\n",
      "Column: 87\tType: <class 'str'>\tLabel:  Label\n"
     ]
    }
   ],
   "source": [
    "\n",
    "for i in range(smalldf.shape[1]):\n",
    "    print(f\"Column: {i}\\tType: {type(v[0][i])}\\tLabel: {columns[i]}\")"
   ]
  },
  {
   "cell_type": "code",
   "execution_count": 16,
   "id": "0504ddb6",
   "metadata": {},
   "outputs": [],
   "source": [
    "\n",
    "columns = ['Unnamed: 0', 'Flow ID', ' Source IP', ' Source Port',\n",
    "       ' Destination IP', ' Destination Port', ' Protocol', ' Timestamp',\n",
    "       ' Flow Duration', ' Total Fwd Packets', ' Total Backward Packets',\n",
    "       'Total Length of Fwd Packets', ' Total Length of Bwd Packets',\n",
    "       ' Fwd Packet Length Max', ' Fwd Packet Length Min',\n",
    "       ' Fwd Packet Length Mean', ' Fwd Packet Length Std',\n",
    "       'Bwd Packet Length Max', ' Bwd Packet Length Min',\n",
    "       ' Bwd Packet Length Mean', ' Bwd Packet Length Std', 'Flow Bytes/s',\n",
    "       ' Flow Packets/s', ' Flow IAT Mean', ' Flow IAT Std', ' Flow IAT Max',\n",
    "       ' Flow IAT Min', 'Fwd IAT Total', ' Fwd IAT Mean', ' Fwd IAT Std',\n",
    "       ' Fwd IAT Max', ' Fwd IAT Min', 'Bwd IAT Total', ' Bwd IAT Mean',\n",
    "       ' Bwd IAT Std', ' Bwd IAT Max', ' Bwd IAT Min', 'Fwd PSH Flags',\n",
    "       ' Bwd PSH Flags', ' Fwd URG Flags', ' Bwd URG Flags',\n",
    "       ' Fwd Header Length', ' Bwd Header Length', 'Fwd Packets/s',\n",
    "       ' Bwd Packets/s', ' Min Packet Length', ' Max Packet Length',\n",
    "       ' Packet Length Mean', ' Packet Length Std', ' Packet Length Variance',\n",
    "       'FIN Flag Count', ' SYN Flag Count', ' RST Flag Count',\n",
    "       ' PSH Flag Count', ' ACK Flag Count', ' URG Flag Count',\n",
    "       ' CWE Flag Count', ' ECE Flag Count', ' Down/Up Ratio',\n",
    "       ' Average Packet Size', ' Avg Fwd Segment Size',\n",
    "       ' Avg Bwd Segment Size', ' Fwd Header Length.1', 'Fwd Avg Bytes/Bulk',\n",
    "       ' Fwd Avg Packets/Bulk', ' Fwd Avg Bulk Rate', ' Bwd Avg Bytes/Bulk',\n",
    "       ' Bwd Avg Packets/Bulk', 'Bwd Avg Bulk Rate', 'Subflow Fwd Packets',\n",
    "       ' Subflow Fwd Bytes', ' Subflow Bwd Packets', ' Subflow Bwd Bytes',\n",
    "       'Init_Win_bytes_forward', ' Init_Win_bytes_backward',\n",
    "       ' act_data_pkt_fwd', ' min_seg_size_forward', 'Active Mean',\n",
    "       ' Active Std', ' Active Max', ' Active Min', 'Idle Mean', ' Idle Std',\n",
    "       ' Idle Max', ' Idle Min', 'SimillarHTTP', ' Inbound', ' Label']"
   ]
  },
  {
   "cell_type": "code",
   "execution_count": 28,
   "id": "6d3bbfee",
   "metadata": {},
   "outputs": [
    {
     "data": {
      "text/plain": [
       "88"
      ]
     },
     "execution_count": 28,
     "metadata": {},
     "output_type": "execute_result"
    }
   ],
   "source": [
    "len(columns)"
   ]
  },
  {
   "cell_type": "code",
   "execution_count": null,
   "id": "1562e6dc",
   "metadata": {},
   "outputs": [],
   "source": [
    "df.values.dtype"
   ]
  },
  {
   "cell_type": "code",
   "execution_count": 37,
   "id": "55757ca3",
   "metadata": {},
   "outputs": [
    {
     "data": {
      "text/plain": [
       "array([[123, '192.168.50.8-125.56.201.115-59099-80-6', '192.168.50.8', 59099, ..., 8632089.0,\n",
       "        'detectportal.firefox.com/success.txt', 0, 'BENIGN'],\n",
       "       [23, '192.168.50.8-54.218.239.186-59102-443-6', '192.168.50.8', 59102, ..., 9933709.0, '0', 0, 'BENIGN'],\n",
       "       [126, '192.168.50.253-224.0.0.5-0-0-0', '192.168.50.253', 0, ..., 6781893.0, '0', 0, 'BENIGN'],\n",
       "       [91, '192.168.50.8-23.15.4.11-59155-80-6', '192.168.50.8', 59155, ..., 10000366.0, '0', 0, 'BENIGN'],\n",
       "       ...,\n",
       "       [349, '192.168.50.6-125.56.201.105-57177-80-6', '192.168.50.6', 57177, ..., 0.0, '0', 0, 'BENIGN'],\n",
       "       [25306, '192.168.50.6-125.56.201.105-57177-80-6', '125.56.201.105', 80, ..., 0.0, '0', 1, 'BENIGN'],\n",
       "       [24149, '172.217.11.34-192.168.50.6-443-57225-6', '192.168.50.6', 57225, ..., 0.0, '0', 0, 'BENIGN'],\n",
       "       [480, '192.168.50.254-224.0.0.5-0-0-0', '192.168.50.254', 0, ..., 9290744.0, '0', 0, 'BENIGN']], dtype=object)"
      ]
     },
     "execution_count": 37,
     "metadata": {},
     "output_type": "execute_result"
    }
   ],
   "source": [
    "v"
   ]
  },
  {
   "cell_type": "code",
   "execution_count": null,
   "id": "a50cedec",
   "metadata": {},
   "outputs": [],
   "source": []
  }
 ],
 "metadata": {
  "kernelspec": {
   "display_name": "Python 3",
   "language": "python",
   "name": "python3"
  },
  "language_info": {
   "codemirror_mode": {
    "name": "ipython",
    "version": 3
   },
   "file_extension": ".py",
   "mimetype": "text/x-python",
   "name": "python",
   "nbconvert_exporter": "python",
   "pygments_lexer": "ipython3",
   "version": "3.7.10"
  }
 },
 "nbformat": 4,
 "nbformat_minor": 5
}

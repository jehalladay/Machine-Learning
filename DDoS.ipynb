{
 "cells": [
  {
   "cell_type": "markdown",
   "metadata": {
    "id": "laJNLYVFy1NV"
   },
   "source": [
    "# DDoS\n",
    "This paper is about..."
   ]
  },
  {
   "cell_type": "markdown",
   "metadata": {
    "id": "Elf6FpeVyp7h"
   },
   "source": [
    "# Reading in Datafiles"
   ]
  },
  {
   "cell_type": "code",
   "execution_count": 1,
   "metadata": {
    "executionInfo": {
     "elapsed": 612,
     "status": "ok",
     "timestamp": 1618863762057,
     "user": {
      "displayName": "Katelynn Schwerdtfeger",
      "photoUrl": "https://lh3.googleusercontent.com/a-/AOh14GjM-RzTs5dJCQa5zrfHPyBm038uAIOSgXZKb7ST=s64",
      "userId": "07753684243043555466"
     },
     "user_tz": 360
    },
    "id": "c8w62kjtzF-X"
   },
   "outputs": [],
   "source": [
    "import pandas as pd\n",
    "import os\n",
    "from google.colab import drive"
   ]
  },
  {
   "cell_type": "code",
   "execution_count": null,
   "metadata": {
    "id": "xK7o0wu6zO27"
   },
   "outputs": [],
   "source": [
    "!pwd\n",
    "# Mounting your personal drive so we can use the csv file in our 'Code' folder\n",
    "drive.mount('/content/drive')\n",
    "!pwd\n",
    "%cd '/content/drive/My Drive/DDoS_Experiments'\n",
    "%ls"
   ]
  }
 ],
 "metadata": {
  "colab": {
   "authorship_tag": "ABX9TyMRohArOj4ukdQNuaUHhYC1",
   "collapsed_sections": [],
   "name": "DDoS.ipynb",
   "provenance": []
  },
  "kernelspec": {
   "display_name": "Python 3",
   "language": "python",
   "name": "python3"
  },
  "language_info": {
   "codemirror_mode": {
    "name": "ipython",
    "version": 3
   },
   "file_extension": ".py",
   "mimetype": "text/x-python",
   "name": "python",
   "nbconvert_exporter": "python",
   "pygments_lexer": "ipython3",
   "version": "3.7.10"
  }
 },
 "nbformat": 4,
 "nbformat_minor": 1
}
